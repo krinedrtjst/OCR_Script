{
 "cells": [
  {
   "cell_type": "code",
   "execution_count": 2,
   "id": "cc8bcb94-f10d-42f9-8491-d5cae52a414d",
   "metadata": {},
   "outputs": [
    {
     "name": "stdout",
     "output_type": "stream",
     "text": [
      "Requirement already satisfied: pytesseract in c:\\users\\lost4\\anaconda3\\lib\\site-packages (0.3.13)\n",
      "Requirement already satisfied: pdfplumber in c:\\users\\lost4\\anaconda3\\lib\\site-packages (0.11.6)\n",
      "Requirement already satisfied: pillow in c:\\users\\lost4\\anaconda3\\lib\\site-packages (10.3.0)\n",
      "Requirement already satisfied: pdf2image in c:\\users\\lost4\\anaconda3\\lib\\site-packages (1.17.0)\n",
      "Requirement already satisfied: python-docx in c:\\users\\lost4\\anaconda3\\lib\\site-packages (1.1.2)\n",
      "Requirement already satisfied: packaging>=21.3 in c:\\users\\lost4\\anaconda3\\lib\\site-packages (from pytesseract) (23.2)\n",
      "Requirement already satisfied: pdfminer.six==20250327 in c:\\users\\lost4\\anaconda3\\lib\\site-packages (from pdfplumber) (20250327)\n",
      "Requirement already satisfied: pypdfium2>=4.18.0 in c:\\users\\lost4\\anaconda3\\lib\\site-packages (from pdfplumber) (4.30.1)\n",
      "Requirement already satisfied: charset-normalizer>=2.0.0 in c:\\users\\lost4\\anaconda3\\lib\\site-packages (from pdfminer.six==20250327->pdfplumber) (2.0.4)\n",
      "Requirement already satisfied: cryptography>=36.0.0 in c:\\users\\lost4\\anaconda3\\lib\\site-packages (from pdfminer.six==20250327->pdfplumber) (42.0.5)\n",
      "Requirement already satisfied: lxml>=3.1.0 in c:\\users\\lost4\\anaconda3\\lib\\site-packages (from python-docx) (5.2.1)\n",
      "Requirement already satisfied: typing-extensions>=4.9.0 in c:\\users\\lost4\\anaconda3\\lib\\site-packages (from python-docx) (4.11.0)\n",
      "Requirement already satisfied: cffi>=1.12 in c:\\users\\lost4\\anaconda3\\lib\\site-packages (from cryptography>=36.0.0->pdfminer.six==20250327->pdfplumber) (1.16.0)\n",
      "Requirement already satisfied: pycparser in c:\\users\\lost4\\anaconda3\\lib\\site-packages (from cffi>=1.12->cryptography>=36.0.0->pdfminer.six==20250327->pdfplumber) (2.21)\n",
      "Note: you may need to restart the kernel to use updated packages.\n"
     ]
    }
   ],
   "source": [
    "pip install pytesseract pdfplumber pillow pdf2image python-docx"
   ]
  },
  {
   "cell_type": "code",
   "execution_count": 3,
   "id": "5f22e537-e90d-46bb-b312-9648d6f127dd",
   "metadata": {},
   "outputs": [
    {
     "name": "stdout",
     "output_type": "stream",
     "text": [
      "Requirement already satisfied: python-docx in c:\\users\\lost4\\anaconda3\\lib\\site-packages (1.1.2)\n",
      "Requirement already satisfied: pytesseract in c:\\users\\lost4\\anaconda3\\lib\\site-packages (0.3.13)\n",
      "Requirement already satisfied: pdfplumber in c:\\users\\lost4\\anaconda3\\lib\\site-packages (0.11.6)\n",
      "Requirement already satisfied: pillow in c:\\users\\lost4\\anaconda3\\lib\\site-packages (10.3.0)\n",
      "Requirement already satisfied: pdf2image in c:\\users\\lost4\\anaconda3\\lib\\site-packages (1.17.0)\n",
      "Requirement already satisfied: lxml>=3.1.0 in c:\\users\\lost4\\anaconda3\\lib\\site-packages (from python-docx) (5.2.1)\n",
      "Requirement already satisfied: typing-extensions>=4.9.0 in c:\\users\\lost4\\anaconda3\\lib\\site-packages (from python-docx) (4.11.0)\n",
      "Requirement already satisfied: packaging>=21.3 in c:\\users\\lost4\\anaconda3\\lib\\site-packages (from pytesseract) (23.2)\n",
      "Requirement already satisfied: pdfminer.six==20250327 in c:\\users\\lost4\\anaconda3\\lib\\site-packages (from pdfplumber) (20250327)\n",
      "Requirement already satisfied: pypdfium2>=4.18.0 in c:\\users\\lost4\\anaconda3\\lib\\site-packages (from pdfplumber) (4.30.1)\n",
      "Requirement already satisfied: charset-normalizer>=2.0.0 in c:\\users\\lost4\\anaconda3\\lib\\site-packages (from pdfminer.six==20250327->pdfplumber) (2.0.4)\n",
      "Requirement already satisfied: cryptography>=36.0.0 in c:\\users\\lost4\\anaconda3\\lib\\site-packages (from pdfminer.six==20250327->pdfplumber) (42.0.5)\n",
      "Requirement already satisfied: cffi>=1.12 in c:\\users\\lost4\\anaconda3\\lib\\site-packages (from cryptography>=36.0.0->pdfminer.six==20250327->pdfplumber) (1.16.0)\n",
      "Requirement already satisfied: pycparser in c:\\users\\lost4\\anaconda3\\lib\\site-packages (from cffi>=1.12->cryptography>=36.0.0->pdfminer.six==20250327->pdfplumber) (2.21)\n"
     ]
    }
   ],
   "source": [
    "!pip install python-docx pytesseract pdfplumber pillow pdf2image"
   ]
  },
  {
   "cell_type": "code",
   "execution_count": 36,
   "id": "974ed589-96f6-491c-9df8-3167355af1ce",
   "metadata": {},
   "outputs": [
    {
     "name": "stdout",
     "output_type": "stream",
     "text": [
      "Requirement already satisfied: pytesseract in c:\\users\\lost4\\anaconda3\\lib\\site-packages (0.3.13)Note: you may need to restart the kernel to use updated packages.\n",
      "\n",
      "Requirement already satisfied: pillow in c:\\users\\lost4\\anaconda3\\lib\\site-packages (10.3.0)\n",
      "Requirement already satisfied: python-docx in c:\\users\\lost4\\anaconda3\\lib\\site-packages (1.1.2)\n",
      "Requirement already satisfied: packaging>=21.3 in c:\\users\\lost4\\anaconda3\\lib\\site-packages (from pytesseract) (23.2)\n",
      "Requirement already satisfied: lxml>=3.1.0 in c:\\users\\lost4\\anaconda3\\lib\\site-packages (from python-docx) (5.2.1)\n",
      "Requirement already satisfied: typing-extensions>=4.9.0 in c:\\users\\lost4\\anaconda3\\lib\\site-packages (from python-docx) (4.11.0)\n"
     ]
    }
   ],
   "source": [
    "pip install pytesseract pillow python-docx"
   ]
  },
  {
   "cell_type": "code",
   "execution_count": 45,
   "id": "caa49467-95f0-49f5-a1dc-d244f09f403b",
   "metadata": {},
   "outputs": [
    {
     "ename": "ModuleNotFoundError",
     "evalue": "No module named 'seu_script'",
     "output_type": "error",
     "traceback": [
      "\u001b[1;31m---------------------------------------------------------------------------\u001b[0m",
      "\u001b[1;31mModuleNotFoundError\u001b[0m                       Traceback (most recent call last)",
      "Cell \u001b[1;32mIn[45], line 2\u001b[0m\n\u001b[0;32m      1\u001b[0m \u001b[38;5;66;03m# --- célula Python: defina aqui sua função ou importe o script ---\u001b[39;00m\n\u001b[1;32m----> 2\u001b[0m \u001b[38;5;28;01mfrom\u001b[39;00m \u001b[38;5;21;01mseu_script\u001b[39;00m \u001b[38;5;28;01mimport\u001b[39;00m imagem_para_docx\n\u001b[0;32m      4\u001b[0m \u001b[38;5;66;03m# Chama a função direto no Python\u001b[39;00m\n\u001b[0;32m      5\u001b[0m resultado \u001b[38;5;241m=\u001b[39m imagem_para_docx(\u001b[38;5;124mr\u001b[39m\u001b[38;5;124m\"\u001b[39m\u001b[38;5;124mC:\u001b[39m\u001b[38;5;124m\\\u001b[39m\u001b[38;5;124mUsers\u001b[39m\u001b[38;5;124m\\\u001b[39m\u001b[38;5;124mlost4\u001b[39m\u001b[38;5;124m\\\u001b[39m\u001b[38;5;124mOneDrive\u001b[39m\u001b[38;5;124m\\\u001b[39m\u001b[38;5;124mDocumentos\u001b[39m\u001b[38;5;124m\\\u001b[39m\u001b[38;5;124mDATA\u001b[39m\u001b[38;5;124m\\\u001b[39m\u001b[38;5;124mData Transcriptions\u001b[39m\u001b[38;5;124m\\\u001b[39m\u001b[38;5;124mDeloite.pdf\u001b[39m\u001b[38;5;124m\"\u001b[39m)\n",
      "\u001b[1;31mModuleNotFoundError\u001b[0m: No module named 'seu_script'"
     ]
    }
   ],
   "source": [
    "# --- célula Python: defina aqui sua função ou importe o script ---\n",
    "from seu_script import imagem_para_docx\n",
    "\n",
    "# Chama a função direto no Python\n",
    "resultado = imagem_para_docx(r\"C:\\Users\\lost4\\OneDrive\\Documentos\\DATA\\Data Transcriptions\\Deloite.pdf\")\n",
    "print(resultado)"
   ]
  },
  {
   "cell_type": "code",
   "execution_count": 43,
   "id": "1a7c0e58-1f53-4138-9df5-70ce2c37df85",
   "metadata": {},
   "outputs": [
    {
     "name": "stderr",
     "output_type": "stream",
     "text": [
      "python: can't open file 'C:\\\\Users\\\\lost4\\\\seu_script.py': [Errno 2] No such file or directory\n"
     ]
    }
   ],
   "source": [
    "!python seu_script.py"
   ]
  },
  {
   "cell_type": "code",
   "execution_count": 32,
   "id": "2e77d1ac-bd62-410f-a3d7-187b866ed18e",
   "metadata": {},
   "outputs": [],
   "source": [
    "# Path to you# Path to your scanned PDF file\n",
    "pdf_path = r\"C:\\Users\\lost4\\OneDrive\\Documentos\\DATA\\Data Transcriptions\\Deloite.pdf\" "
   ]
  },
  {
   "cell_type": "code",
   "execution_count": 26,
   "id": "1e3906e8-d16b-4d47-ab5f-dfbf35854e97",
   "metadata": {},
   "outputs": [
    {
     "name": "stdout",
     "output_type": "stream",
     "text": [
      "Successfully converted PDF to 1 image(s)\n"
     ]
    }
   ],
   "source": [
    "import os\n",
    "from pdf2image import convert_from_path\n",
    "\n",
    "# 1) Real path to your PDF\n",
    "pdf_path = r\"C:\\Users\\lost4\\OneDrive\\Documentos\\DATA\\Data Transcriptions\\Deloite.pdf\"\n",
    "\n",
    "# 2) Poppler bin folder must contain pdfinfo.exe AND pdftoppm.exe\n",
    "poppler_bin = r\"C:\\Users\\lost4\\OneDrive\\Documentos\\DATA\\Data Transcriptions\\poppler-24.08.0\\Library\\bin\"\n",
    "\n",
    "# 3) Quick sanity checks:\n",
    "if not os.path.exists(pdf_path):\n",
    "    raise FileNotFoundError(f\"PDF not found at {pdf_path}\")\n",
    "\n",
    "for exe in (\"pdfinfo.exe\",\"pdftoppm.exe\"):\n",
    "    path_exe = os.path.join(poppler_bin, exe)\n",
    "    if not os.path.exists(path_exe):\n",
    "        raise FileNotFoundError(f\"{exe} not found in {poppler_bin}\")\n",
    "\n",
    "# 4) Convert PDF to PIL images\n",
    "pages = convert_from_path(\n",
    "    pdf_path,\n",
    "    dpi=300,\n",
    "    poppler_path=poppler_bin\n",
    ")\n",
    "\n",
    "print(f\"Successfully converted PDF to {len(pages)} image(s)\")"
   ]
  },
  {
   "cell_type": "code",
   "execution_count": 51,
   "id": "cd9dcf2f-1f3e-4552-9dd0-5fc45b8059b4",
   "metadata": {},
   "outputs": [
    {
     "name": "stdout",
     "output_type": "stream",
     "text": [
      "Sucesso: documento gerado em Deloite_ocr.docx\n"
     ]
    }
   ],
   "source": [
    "import os\n",
    "from PIL import Image\n",
    "import pytesseract\n",
    "from docx import Document\n",
    "\n",
    "def imagem_para_docx(imagem_path):\n",
    "    \"\"\"\n",
    "    Extrai texto de uma imagem via OCR e salva em um .docx\n",
    "    Retorna mensagem de sucesso ou erro.\n",
    "    \"\"\"\n",
    "    try:\n",
    "        # 1) Verifica existência do arquivo\n",
    "        if not os.path.exists(imagem_path):\n",
    "            return f\"Erro: arquivo não encontrado em {imagem_path}\"\n",
    "        \n",
    "        # 2) Abre a imagem\n",
    "        img = Image.open(imagem_path)\n",
    "        \n",
    "        # 3) Executa OCR (ajuste 'lang' se necessário: 'por', 'spa', etc.)\n",
    "        texto = pytesseract.image_to_string(img, lang='eng')\n",
    "        \n",
    "        # 4) Prepara o documento Word\n",
    "        doc = Document()\n",
    "        \n",
    "        if texto.strip():\n",
    "            # Separa em parágrafos simples por duplo newline\n",
    "            for par in texto.split('\\n\\n'):\n",
    "                par = par.strip()\n",
    "                if par:\n",
    "                    doc.add_paragraph(par)\n",
    "        else:\n",
    "            doc.add_paragraph(\"(Nenhum texto detectado na imagem)\")\n",
    "        \n",
    "        # 5) Gera nome de saída baseado no nome da imagem\n",
    "        base = os.path.splitext(os.path.basename(imagem_path))[0]\n",
    "        out_name = f\"{base}_ocr.docx\"\n",
    "        doc.save(out_name)\n",
    "        \n",
    "        return f\"Sucesso: documento gerado em {out_name}\"\n",
    "    \n",
    "    except Exception as e:\n",
    "        return f\"Falha no OCR ou na geração do Word: {e}\"\n",
    "\n",
    "if __name__ == \"__main__\":\n",
    "    # Exemplo de uso: altere para o caminho da sua imagem\n",
    "    caminho_imagem = r\"C:\\Users\\lost4\\OneDrive\\Documentos\\DATA\\Data Transcriptions\\Deloite.jpg\"\n",
    "    resultado = imagem_para_docx(caminho_imagem)\n",
    "    print(resultado)"
   ]
  },
  {
   "cell_type": "code",
   "execution_count": 53,
   "id": "47771e4c-740e-4eb8-a4be-b35347db5517",
   "metadata": {},
   "outputs": [
    {
     "data": {
      "text/html": [
       "<a href='Deloite_ocr.docx' target='_blank'>Deloite_ocr.docx</a><br>"
      ],
      "text/plain": [
       "C:\\Users\\lost4\\Deloite_ocr.docx"
      ]
     },
     "metadata": {},
     "output_type": "display_data"
    }
   ],
   "source": [
    "from IPython.display import FileLink\n",
    "# Assuming the docx was saved as “Deloite_ocr.docx” in your current working dir\n",
    "display(FileLink(\"Deloite_ocr.docx\"))"
   ]
  },
  {
   "cell_type": "code",
   "execution_count": 55,
   "id": "1f20ddd9-c315-4455-ad9f-e1d766a23a74",
   "metadata": {},
   "outputs": [],
   "source": [
    "import pytesseract\n",
    "\n",
    "# Windows example: adjust if you installed elsewhere\n",
    "pytesseract.pytesseract.tesseract_cmd = (\n",
    "    r\"C:\\Users\\lost4\\OneDrive\\Documentos\\DATA\\Data Transcriptions\\tesseract-ocr-w64-setup-5.5.0.20241111.exe\"\n",
    ")"
   ]
  },
  {
   "cell_type": "code",
   "execution_count": 54,
   "id": "2d11e8bd-8865-49ad-93fb-863cfa7f55e6",
   "metadata": {},
   "outputs": [],
   "source": [
    "# Path to you# Path to your scanned PDF file\n",
    "pdf_path = r\"C:\\Users\\lost4\\OneDrive\\Documentos\\DATA\\Data Transcriptions\\TPL PROJECT, THE BEAUTIFUL HEART .pdf\" "
   ]
  },
  {
   "cell_type": "code",
   "execution_count": 53,
   "id": "e37ea47a-2586-4147-bde5-f7e560a58c95",
   "metadata": {},
   "outputs": [
    {
     "name": "stdout",
     "output_type": "stream",
     "text": [
      "Conversão bem-sucedida: 31 página(s) detectada(s)\n"
     ]
    }
   ],
   "source": [
    "import os\n",
    "from pdf2image import convert_from_path\n",
    "\n",
    "# 1) Ajuste aqui para o seu PDF real e para o bin do poppler\n",
    "pdf_path    = r\"C:\\Users\\lost4\\OneDrive\\Documentos\\DATA\\Data Transcriptions\\TPL PROJECT, THE BEAUTIFUL HEART .pdf\"\n",
    "poppler_bin = r\"C:\\Users\\lost4\\OneDrive\\Documentos\\DATA\\Data Transcriptions\\poppler-24.08.0\\Library\\bin\"\n",
    "\n",
    "# 2) Checagens básicas\n",
    "if not os.path.isfile(pdf_path):\n",
    "    raise FileNotFoundError(f\"PDF não encontrado em {pdf_path}\")\n",
    "\n",
    "for exe in (\"pdfinfo.exe\", \"pdftoppm.exe\"):\n",
    "    p = os.path.join(poppler_bin, exe)\n",
    "    if not os.path.exists(p):\n",
    "        raise FileNotFoundError(f\"{exe} não encontrado em {poppler_bin}\")\n",
    "\n",
    "# 3) Tenta converter para imagens\n",
    "pages = convert_from_path(pdf_path, dpi=300, poppler_path=poppler_bin)\n",
    "print(f\"Conversão bem-sucedida: {len(pages)} página(s) detectada(s)\")"
   ]
  },
  {
   "cell_type": "code",
   "execution_count": 56,
   "id": "4b3930bf-3a68-48d0-befa-cb3dd6399ae3",
   "metadata": {},
   "outputs": [
    {
     "name": "stdout",
     "output_type": "stream",
     "text": [
      "Sucesso: documento gerado em TPL PROJECT, THE BEAUTIFUL HEART _ocr.docx\n"
     ]
    }
   ],
   "source": [
    "import os\n",
    "from pdf2image import convert_from_path\n",
    "import pytesseract\n",
    "from docx import Document\n",
    "\n",
    "# Aponte para o executável do Tesseract, se não estiver no PATH\n",
    "pytesseract.pytesseract.tesseract_cmd = r\"C:\\Program Files\\Tesseract-OCR\\tesseract.exe\"\n",
    "\n",
    "def pdf_para_docx(pdf_path, poppler_path, lang='por'):\n",
    "    # 1) Validar arquivos\n",
    "    if not os.path.isfile(pdf_path):\n",
    "        return f\"Erro: PDF não encontrado em {pdf_path}\"\n",
    "    for exe in (\"pdfinfo.exe\",\"pdftoppm.exe\"):\n",
    "        if not os.path.exists(os.path.join(poppler_path, exe)):\n",
    "            return f\"Erro: {exe} não encontrado em {poppler_path}\"\n",
    "\n",
    "    # 2) Converter PDF → lista de imagens\n",
    "    pages = convert_from_path(pdf_path, dpi=300, poppler_path=poppler_path)\n",
    "\n",
    "    # 3) Criar docx e inserir OCR de cada página\n",
    "    doc = Document()\n",
    "    for i, img in enumerate(pages):\n",
    "        if i > 0:\n",
    "            doc.add_page_break()\n",
    "        texto = pytesseract.image_to_string(img, lang=lang)\n",
    "        if texto.strip():\n",
    "            for par in texto.split('\\n\\n'):\n",
    "                par = par.strip()\n",
    "                if par:\n",
    "                    doc.add_paragraph(par)\n",
    "        else:\n",
    "            doc.add_paragraph(\"(Nenhum texto detectado nesta página)\")\n",
    "\n",
    "    # 4) Salvar\n",
    "    base = os.path.splitext(os.path.basename(pdf_path))[0]\n",
    "    out = f\"{base}_ocr.docx\"\n",
    "    doc.save(out)\n",
    "    return f\"Sucesso: documento gerado em {out}\"\n",
    "\n",
    "if __name__ == \"__main__\":\n",
    "    pdf_path    = r\"C:\\Users\\lost4\\OneDrive\\Documentos\\DATA\\Data Transcriptions\\TPL PROJECT, THE BEAUTIFUL HEART .pdf\"\n",
    "    poppler_bin = r\"C:\\Users\\lost4\\OneDrive\\Documentos\\DATA\\Data Transcriptions\\poppler-24.08.0\\Library\\bin\"\n",
    "\n",
    "    print(pdf_para_docx(pdf_path, poppler_bin, lang='por'))"
   ]
  },
  {
   "cell_type": "code",
   "execution_count": null,
   "id": "3289f6e4-7db7-49b8-94ec-cf44735f3f35",
   "metadata": {},
   "outputs": [],
   "source": [
    "#!/usr/bin/env python3\n",
    "import sys\n",
    "import argparse\n",
    "from pathlib import Path\n",
    "\n",
    "import pytesseract\n",
    "from pdf2image import convert_from_path\n",
    "from docx import Document\n",
    "\n",
    "# Se o tesseract.exe não estiver no PATH, descomente e ajuste:\n",
    "# pytesseract.pytesseract.tesseract_cmd = r\"C:\\Program Files\\Tesseract-OCR\\tesseract.exe\"\n",
    "\n",
    "def pdf_para_docx(pdf_path: Path, poppler_path: Path, lang: str = \"por\") -> Path:\n",
    "    \"\"\"\n",
    "    Converte PDF escaneado em .docx via OCR.\n",
    "    Retorna o Path para o documento gerado.\n",
    "    Lança FileNotFoundError ou RuntimeError em caso de erro.\n",
    "    \"\"\"\n",
    "    # 1) Validações\n",
    "    if not pdf_path.is_file():\n",
    "        raise FileNotFoundError(f\"PDF não encontrado: {pdf_path}\")\n",
    "    if not poppler_path.is_dir():\n",
    "        raise FileNotFoundError(f\"Pasta Poppler não encontrada: {poppler_path}\")\n",
    "\n",
    "    for exe in (\"pdfinfo.exe\", \"pdftoppm.exe\"):\n",
    "        exe_path = poppler_path / exe\n",
    "        if not exe_path.exists():\n",
    "            raise FileNotFoundError(f\"'{exe}' não encontrado em {poppler_path}\")\n",
    "\n",
    "    # 2) Converter PDF → imagens\n",
    "    try:\n",
    "        pages = convert_from_path(\n",
    "            str(pdf_path),\n",
    "            dpi=300,\n",
    "            poppler_path=str(poppler_path)\n",
    "        )\n",
    "    except Exception as e:\n",
    "        raise RuntimeError(f\"Falha ao converter PDF em imagem: {e}\")\n",
    "\n",
    "    if not pages:\n",
    "        raise RuntimeError(\"Nenhuma página foi convertida. Verifique o PDF e o poppler_path.\")\n",
    "\n",
    "    # 3) OCR + montagem do DOCX\n",
    "    doc = Document()\n",
    "    for idx, img in enumerate(pages):\n",
    "        if idx > 0:\n",
    "            doc.add_page_break()\n",
    "        texto = pytesseract.image_to_string(img, lang=lang).strip()\n",
    "        if texto:\n",
    "            # quebra em blocos por dupla newline\n",
    "            for block in texto.split(\"\\n\\n\"):\n",
    "                block = block.strip()\n",
    "                if block:\n",
    "                    doc.add_paragraph(block)\n",
    "        else:\n",
    "            doc.add_paragraph(\"(Nenhum texto detectado nesta página)\")\n",
    "\n",
    "    # 4) Gravação do arquivo\n",
    "    out_name = pdf_path.with_name(pdf_path.stem + \"_ocr.docx\")\n",
    "    doc.save(out_name)\n",
    "    return out_name\n",
    "\n",
    "def main():\n",
    "    p = argparse.ArgumentParser(\n",
    "        description=\"Extrai texto de PDF escaneado e gera um .docx via OCR\"\n",
    "    )\n",
    "    p.add_argument(\"pdf\", type=Path, help=\"Caminho para o arquivo PDF\")\n",
    "    p.add_argument(\n",
    "        \"-p\", \"--poppler\", type=Path, required=True,\n",
    "        help=\"Pasta 'bin' do Poppler (contendo pdfinfo.exe e pdftoppm.exe)\"\n",
    "    )\n",
    "    p.add_argument(\n",
    "        \"-l\", \"--lang\", default=\"por\",\n",
    "        help=\"Idioma do Tesseract (ex: 'eng','por','spa'). Padrão: por\"\n",
    "    )\n",
    "    args = p.parse_args()\n",
    "\n",
    "    try:\n",
    "        out_path = pdf_para_docx(args.pdf, args.poppler, lang=args.lang)\n",
    "        print(f\"Sucesso: documento gerado em {out_path}\")\n",
    "        sys.exit(0)\n",
    "    except Exception as e:\n",
    "        print(f\"Erro: {e}\", file=sys.stderr)\n",
    "        sys.exit(1)\n",
    "\n",
    "if __name__ == \"__main__\":\n",
    "    main()"
   ]
  },
  {
   "cell_type": "code",
   "execution_count": null,
   "id": "cf00db6b-d57e-43b8-89da-e4d8d5201fce",
   "metadata": {},
   "outputs": [],
   "source": [
    "pip install pdf2image pytesseract python-docx pillow"
   ]
  },
  {
   "cell_type": "code",
   "execution_count": null,
   "id": "37b74b34-63e1-4854-bb95-a46eccef2be3",
   "metadata": {},
   "outputs": [],
   "source": [
    "python pdf2docx.py \\\n",
    "  \"C:\\Users\\lost4\\OneDrive\\Documentos\\DATA\\Data Transcriptions\\TPL PROJECT, THE BEAUTIFUL HEART.pdf\" \\\n",
    "  -p \"C:\\Users\\lost4\\OneDrive\\Documentos\\DATA\\Data Transcriptions\\poppler-24.08.0\\Library\\bin\" \\\n",
    "  -l por"
   ]
  },
  {
   "cell_type": "code",
   "execution_count": 57,
   "id": "4d6a2de3-ca2c-4639-b745-96d6b218a601",
   "metadata": {},
   "outputs": [
    {
     "name": "stdout",
     "output_type": "stream",
     "text": [
      "Erro: PDF não encontrado em C:\\Users\\lost4\\OneDrive\\Documentos\\DATA\\Data Transcriptions\\TPL PROJECT, THE BEAUTIFUL HEART.pdf\n"
     ]
    }
   ],
   "source": [
    "import os\n",
    "from pdf2image import convert_from_path\n",
    "import pytesseract\n",
    "from docx import Document\n",
    "\n",
    "# Se o tesseract.exe não estiver no PATH, ajuste aqui:\n",
    "pytesseract.pytesseract.tesseract_cmd = r\"C:\\Program Files\\Tesseract-OCR\\tesseract.exe\"\n",
    "\n",
    "def pdf_para_docx(pdf_path, poppler_path, lang='por'):\n",
    "    # 1) Validações básicas\n",
    "    if not os.path.isfile(pdf_path):\n",
    "        return None, f\"Erro: PDF não encontrado em {pdf_path}\"\n",
    "    for exe in (\"pdfinfo.exe\",\"pdftoppm.exe\"):\n",
    "        if not os.path.exists(os.path.join(poppler_path, exe)):\n",
    "            return None, f\"Erro: '{exe}' não encontrado em {poppler_path}\"\n",
    "\n",
    "    # 2) Converte PDF → imagens\n",
    "    pages = convert_from_path(pdf_path, dpi=300, poppler_path=poppler_path)\n",
    "    if not pages:\n",
    "        return None, \"Erro: nenhuma página foi convertida.\"\n",
    "\n",
    "    # 3) Cria o .docx e faz OCR em cada página\n",
    "    doc = Document()\n",
    "    for i, img in enumerate(pages):\n",
    "        if i > 0:\n",
    "            doc.add_page_break()\n",
    "        texto = pytesseract.image_to_string(img, lang=lang)\n",
    "        if texto.strip():\n",
    "            for par in texto.split('\\n\\n'):\n",
    "                par = par.strip()\n",
    "                if par:\n",
    "                    doc.add_paragraph(par)\n",
    "        else:\n",
    "            doc.add_paragraph(\"(Nenhum texto detectado nesta página)\")\n",
    "\n",
    "    # 4) Gera nome de saída e salva\n",
    "    base = os.path.splitext(os.path.basename(pdf_path))[0].strip()\n",
    "    out_name = f\"{base}_ocr.docx\"\n",
    "    doc.save(out_name)\n",
    "\n",
    "    return out_name, None\n",
    "\n",
    "if __name__ == \"__main__\":\n",
    "    pdf_path = r\"C:\\Users\\lost4\\OneDrive\\Documentos\\DATA\\Data Transcriptions\\TPL PROJECT, THE BEAUTIFUL HEART.pdf\"\n",
    "    poppler_bin = r\"C:\\Users\\lost4\\OneDrive\\Documentos\\DATA\\Data Transcriptions\\poppler-24.08.0\\Library\\bin\"\n",
    "\n",
    "    out, err = pdf_para_docx(pdf_path, poppler_bin, lang='por')\n",
    "    if err:\n",
    "        print(err)\n",
    "    else:\n",
    "        print(f\"Sucesso: documento gerado em {out}\")\n",
    "\n",
    "        # Se estiver no Jupyter Notebook / Lab, cria link de download:\n",
    "        try:\n",
    "            from IPython.display import FileLink, display\n",
    "            display(FileLink(os.path.abspath(out)))\n",
    "        except ImportError:\n",
    "            pass\n",
    "\n",
    "        # Se estiver no Google Colab, dispara download automático:\n",
    "        try:\n",
    "            from google.colab import files\n",
    "            files.download(out)\n",
    "        except ImportError:\n",
    "            pass"
   ]
  }
 ],
 "metadata": {
  "kernelspec": {
   "display_name": "Python 3 (ipykernel)",
   "language": "python",
   "name": "python3"
  },
  "language_info": {
   "codemirror_mode": {
    "name": "ipython",
    "version": 3
   },
   "file_extension": ".py",
   "mimetype": "text/x-python",
   "name": "python",
   "nbconvert_exporter": "python",
   "pygments_lexer": "ipython3",
   "version": "3.12.4"
  }
 },
 "nbformat": 4,
 "nbformat_minor": 5
}
